{
 "cells": [
  {
   "cell_type": "code",
   "execution_count": 1,
   "id": "e562f2ba-a194-4f15-aea0-5b29d60d9da9",
   "metadata": {},
   "outputs": [
    {
     "name": "stdout",
     "output_type": "stream",
     "text": [
      "fit a model with 11 variables\n"
     ]
    }
   ],
   "source": [
    "print('fit a model with', 11, 'variables')"
   ]
  },
  {
   "cell_type": "code",
   "execution_count": 2,
   "id": "6c01006e-62da-4c1f-b883-1c7baa92bac5",
   "metadata": {},
   "outputs": [],
   "source": [
    "#print?"
   ]
  },
  {
   "cell_type": "code",
   "execution_count": 3,
   "id": "43f184c7-bbbe-4e25-90b6-9ca84f761f60",
   "metadata": {},
   "outputs": [
    {
     "data": {
      "text/plain": [
       "8"
      ]
     },
     "execution_count": 3,
     "metadata": {},
     "output_type": "execute_result"
    }
   ],
   "source": [
    "3 +5"
   ]
  },
  {
   "cell_type": "code",
   "execution_count": 4,
   "id": "bcf1e856-42ef-437b-b9db-2e233527b32a",
   "metadata": {},
   "outputs": [
    {
     "data": {
      "text/plain": [
       "'hello world'"
      ]
     },
     "execution_count": 4,
     "metadata": {},
     "output_type": "execute_result"
    }
   ],
   "source": [
    "\"hello\" + \" \" + \"world\""
   ]
  },
  {
   "cell_type": "code",
   "execution_count": 5,
   "id": "bb9ffff1-9def-4a40-a626-24b7fe7ec390",
   "metadata": {},
   "outputs": [
    {
     "data": {
      "text/plain": [
       "[3, 4, 5]"
      ]
     },
     "execution_count": 5,
     "metadata": {},
     "output_type": "execute_result"
    }
   ],
   "source": [
    "x=[3,4,5]\n",
    "x"
   ]
  },
  {
   "cell_type": "code",
   "execution_count": 6,
   "id": "07bbb3f9-c8b4-417a-9178-e1165d1014c0",
   "metadata": {},
   "outputs": [
    {
     "data": {
      "text/plain": [
       "[3, 4, 5, 4, 9, 7]"
      ]
     },
     "execution_count": 6,
     "metadata": {},
     "output_type": "execute_result"
    }
   ],
   "source": [
    "y=[4,9,7]\n",
    "x+y"
   ]
  },
  {
   "cell_type": "code",
   "execution_count": 7,
   "id": "634971ff-eadc-434f-adef-98be357dcb39",
   "metadata": {},
   "outputs": [],
   "source": [
    "import numpy as np\n"
   ]
  },
  {
   "cell_type": "code",
   "execution_count": 8,
   "id": "e5f404c1-2d3c-4c87-9489-c5cb5720df1d",
   "metadata": {},
   "outputs": [],
   "source": [
    "x=np.array([3,4,5])\n",
    "y=np.array([4,9,7])"
   ]
  },
  {
   "cell_type": "code",
   "execution_count": 9,
   "id": "1e332574-1f89-45fe-bc7b-a31eaea6728a",
   "metadata": {},
   "outputs": [
    {
     "data": {
      "text/plain": [
       "array([ 7, 13, 12])"
      ]
     },
     "execution_count": 9,
     "metadata": {},
     "output_type": "execute_result"
    }
   ],
   "source": [
    "x+y"
   ]
  },
  {
   "cell_type": "code",
   "execution_count": 10,
   "id": "5310b6c8-e5a8-46bd-837f-c58bdcbdab94",
   "metadata": {},
   "outputs": [
    {
     "data": {
      "text/plain": [
       "array([[1, 2],\n",
       "       [3, 4]])"
      ]
     },
     "execution_count": 10,
     "metadata": {},
     "output_type": "execute_result"
    }
   ],
   "source": [
    "#2D array\n",
    "x= np.array([[1,2],[3,4]])\n",
    "x"
   ]
  },
  {
   "cell_type": "code",
   "execution_count": 11,
   "id": "0963538a-262b-4056-a71f-8214ab1b1dfd",
   "metadata": {},
   "outputs": [
    {
     "data": {
      "text/plain": [
       "2"
      ]
     },
     "execution_count": 11,
     "metadata": {},
     "output_type": "execute_result"
    }
   ],
   "source": [
    "x.ndim"
   ]
  },
  {
   "cell_type": "code",
   "execution_count": 12,
   "id": "55644512-89b6-430a-8a19-e60499b3e5d8",
   "metadata": {},
   "outputs": [
    {
     "data": {
      "text/plain": [
       "dtype('int32')"
      ]
     },
     "execution_count": 12,
     "metadata": {},
     "output_type": "execute_result"
    }
   ],
   "source": [
    "x.dtype"
   ]
  },
  {
   "cell_type": "code",
   "execution_count": 13,
   "id": "943e3527-b9f7-4422-980c-42a053dbd781",
   "metadata": {},
   "outputs": [
    {
     "data": {
      "text/plain": [
       "dtype('float64')"
      ]
     },
     "execution_count": 13,
     "metadata": {},
     "output_type": "execute_result"
    }
   ],
   "source": [
    "np.array([[1,2], [3.0,4 ]]).dtype"
   ]
  },
  {
   "cell_type": "code",
   "execution_count": 14,
   "id": "17717be6-e8a8-4862-9f56-9dc793d7467d",
   "metadata": {},
   "outputs": [
    {
     "data": {
      "text/plain": [
       "(2, 2)"
      ]
     },
     "execution_count": 14,
     "metadata": {},
     "output_type": "execute_result"
    }
   ],
   "source": [
    "x.shape"
   ]
  },
  {
   "cell_type": "code",
   "execution_count": 15,
   "id": "f36dfe19-d9fc-4d2f-8446-9e032ae39949",
   "metadata": {},
   "outputs": [
    {
     "data": {
      "text/plain": [
       "10"
      ]
     },
     "execution_count": 15,
     "metadata": {},
     "output_type": "execute_result"
    }
   ],
   "source": [
    "x=np.array([1,2,3,4])\n",
    "x.sum()"
   ]
  },
  {
   "cell_type": "code",
   "execution_count": 16,
   "id": "fed107ee-5836-4a76-903c-10753bb34cda",
   "metadata": {},
   "outputs": [
    {
     "name": "stdout",
     "output_type": "stream",
     "text": [
      "beginning x: \n",
      " [1 2 3 4 5 6]\n",
      "reshaped x:\n",
      " [[1 2 3]\n",
      " [4 5 6]]\n"
     ]
    }
   ],
   "source": [
    "x=np.array([1,2,3,4,5,6])\n",
    "print('beginning x: \\n',x)\n",
    "x_reshape = x.reshape(2,3)\n",
    "print('reshaped x:\\n', x_reshape)"
   ]
  },
  {
   "cell_type": "code",
   "execution_count": 17,
   "id": "d6cae1a7-879d-481f-aa32-71dcb486d833",
   "metadata": {},
   "outputs": [
    {
     "data": {
      "text/plain": [
       "((2, 3),\n",
       " 2,\n",
       " array([[1, 4],\n",
       "        [2, 5],\n",
       "        [3, 6]]))"
      ]
     },
     "execution_count": 17,
     "metadata": {},
     "output_type": "execute_result"
    }
   ],
   "source": [
    "x_reshape.shape,x_reshape.ndim,x_reshape.T"
   ]
  },
  {
   "cell_type": "code",
   "execution_count": 18,
   "id": "69db503c-8d25-4210-b2a9-f26540e01dd8",
   "metadata": {},
   "outputs": [
    {
     "data": {
      "text/plain": [
       "array([1.        , 1.41421356, 1.73205081, 2.        , 2.23606798,\n",
       "       2.44948974])"
      ]
     },
     "execution_count": 18,
     "metadata": {},
     "output_type": "execute_result"
    }
   ],
   "source": [
    "np.sqrt(x)"
   ]
  },
  {
   "cell_type": "code",
   "execution_count": 19,
   "id": "0e10e3cb-4a21-48e6-b24a-bb0bef7062fd",
   "metadata": {},
   "outputs": [
    {
     "data": {
      "text/plain": [
       "array([ 1,  4,  9, 16, 25, 36])"
      ]
     },
     "execution_count": 19,
     "metadata": {},
     "output_type": "execute_result"
    }
   ],
   "source": [
    "x**2"
   ]
  },
  {
   "cell_type": "code",
   "execution_count": 20,
   "id": "567c1d96-3ee2-4089-95e7-7132e26d08a6",
   "metadata": {},
   "outputs": [
    {
     "data": {
      "text/plain": [
       "array([1.        , 1.41421356, 1.73205081, 2.        , 2.23606798,\n",
       "       2.44948974])"
      ]
     },
     "execution_count": 20,
     "metadata": {},
     "output_type": "execute_result"
    }
   ],
   "source": [
    "x**0.5"
   ]
  },
  {
   "cell_type": "code",
   "execution_count": 21,
   "id": "32caab9b-95f4-4325-bd70-e4ef2f8c8901",
   "metadata": {},
   "outputs": [
    {
     "data": {
      "text/plain": [
       "array([-1.28380827,  0.1750162 , -0.20099318,  0.22983855,  0.38856444,\n",
       "        1.29679255,  0.06855814, -0.82544017, -0.01482704, -1.68672446,\n",
       "        0.40054596, -0.24887152, -1.74624797, -1.00200809,  0.06857966,\n",
       "        0.16170804, -0.72462302, -0.55588438,  1.03057002,  0.44764235,\n",
       "        0.42764537, -0.25064792, -0.83770525,  0.88661263, -0.29192722,\n",
       "       -0.52838717, -1.17579393,  1.133556  ,  1.75693014,  0.37031717,\n",
       "        0.10625465,  0.59084135, -2.40024959, -1.40630141, -1.92474583,\n",
       "        1.51106864,  1.26916361, -1.71592631,  0.51185305, -0.28025068,\n",
       "        2.01972962, -0.32344638, -2.13592124, -0.04415109, -0.31347264,\n",
       "       -1.21291671, -0.24224666,  0.64206738, -0.35253401,  0.64336858])"
      ]
     },
     "execution_count": 21,
     "metadata": {},
     "output_type": "execute_result"
    }
   ],
   "source": [
    "x= np.random.normal(size=50)\n",
    "x"
   ]
  },
  {
   "cell_type": "code",
   "execution_count": null,
   "id": "42b1f4d8-8f61-4f73-85de-837ae70f2a38",
   "metadata": {},
   "outputs": [],
   "source": []
  }
 ],
 "metadata": {
  "kernelspec": {
   "display_name": "Python 3 (ipykernel)",
   "language": "python",
   "name": "python3"
  },
  "language_info": {
   "codemirror_mode": {
    "name": "ipython",
    "version": 3
   },
   "file_extension": ".py",
   "mimetype": "text/x-python",
   "name": "python",
   "nbconvert_exporter": "python",
   "pygments_lexer": "ipython3",
   "version": "3.12.7"
  }
 },
 "nbformat": 4,
 "nbformat_minor": 5
}
